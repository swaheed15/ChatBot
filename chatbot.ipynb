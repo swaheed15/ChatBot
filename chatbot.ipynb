{
 "cells": [
  {
   "cell_type": "code",
   "execution_count": 1,
   "id": "755a0878",
   "metadata": {},
   "outputs": [
    {
     "name": "stdout",
     "output_type": "stream",
     "text": [
      "Requirement already satisfied: python-dotenv in e:\\desktop\\sadia waheed gu1\\gen ai course 4 months\\lcel_p1\\chatenv\\lib\\site-packages (1.1.0)\n",
      "Note: you may need to restart the kernel to use updated packages.\n"
     ]
    },
    {
     "name": "stderr",
     "output_type": "stream",
     "text": [
      "\n",
      "[notice] A new release of pip is available: 23.0.1 -> 25.0.1\n",
      "[notice] To update, run: python.exe -m pip install --upgrade pip\n"
     ]
    },
    {
     "data": {
      "text/plain": [
       "'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'"
      ]
     },
     "execution_count": 1,
     "metadata": {},
     "output_type": "execute_result"
    }
   ],
   "source": [
    "## Building a Chatbot\n",
    "\n",
    "%pip install python-dotenv\n",
    "import os\n",
    "from dotenv import load_dotenv\n",
    "load_dotenv()\n",
    "\n",
    "groq_api_key = os.getenv(\"GROQ_API_KEY\")\n",
    "groq_api_key"
   ]
  },
  {
   "cell_type": "code",
   "execution_count": 2,
   "id": "d46eaf92",
   "metadata": {},
   "outputs": [
    {
     "name": "stdout",
     "output_type": "stream",
     "text": [
      "Requirement already satisfied: langchain-groq in e:\\desktop\\sadia waheed gu1\\gen ai course 4 months\\lcel_p1\\chatenv\\lib\\site-packages (0.3.2)\n",
      "Requirement already satisfied: langchain-core<1.0.0,>=0.3.49 in e:\\desktop\\sadia waheed gu1\\gen ai course 4 months\\lcel_p1\\chatenv\\lib\\site-packages (from langchain-groq) (0.3.54)\n",
      "Requirement already satisfied: groq<1,>=0.4.1 in e:\\desktop\\sadia waheed gu1\\gen ai course 4 months\\lcel_p1\\chatenv\\lib\\site-packages (from langchain-groq) (0.22.0)\n",
      "Requirement already satisfied: anyio<5,>=3.5.0 in e:\\desktop\\sadia waheed gu1\\gen ai course 4 months\\lcel_p1\\chatenv\\lib\\site-packages (from groq<1,>=0.4.1->langchain-groq) (4.9.0)\n",
      "Requirement already satisfied: httpx<1,>=0.23.0 in e:\\desktop\\sadia waheed gu1\\gen ai course 4 months\\lcel_p1\\chatenv\\lib\\site-packages (from groq<1,>=0.4.1->langchain-groq) (0.28.1)\n",
      "Requirement already satisfied: sniffio in e:\\desktop\\sadia waheed gu1\\gen ai course 4 months\\lcel_p1\\chatenv\\lib\\site-packages (from groq<1,>=0.4.1->langchain-groq) (1.3.1)\n",
      "Requirement already satisfied: typing-extensions<5,>=4.10 in e:\\desktop\\sadia waheed gu1\\gen ai course 4 months\\lcel_p1\\chatenv\\lib\\site-packages (from groq<1,>=0.4.1->langchain-groq) (4.13.2)\n",
      "Requirement already satisfied: distro<2,>=1.7.0 in e:\\desktop\\sadia waheed gu1\\gen ai course 4 months\\lcel_p1\\chatenv\\lib\\site-packages (from groq<1,>=0.4.1->langchain-groq) (1.9.0)\n",
      "Requirement already satisfied: pydantic<3,>=1.9.0 in e:\\desktop\\sadia waheed gu1\\gen ai course 4 months\\lcel_p1\\chatenv\\lib\\site-packages (from groq<1,>=0.4.1->langchain-groq) (2.11.3)\n",
      "Requirement already satisfied: jsonpatch<2.0,>=1.33 in e:\\desktop\\sadia waheed gu1\\gen ai course 4 months\\lcel_p1\\chatenv\\lib\\site-packages (from langchain-core<1.0.0,>=0.3.49->langchain-groq) (1.33)\n",
      "Requirement already satisfied: PyYAML>=5.3 in e:\\desktop\\sadia waheed gu1\\gen ai course 4 months\\lcel_p1\\chatenv\\lib\\site-packages (from langchain-core<1.0.0,>=0.3.49->langchain-groq) (6.0.2)\n",
      "Requirement already satisfied: langsmith<0.4,>=0.1.125 in e:\\desktop\\sadia waheed gu1\\gen ai course 4 months\\lcel_p1\\chatenv\\lib\\site-packages (from langchain-core<1.0.0,>=0.3.49->langchain-groq) (0.3.32)\n",
      "Requirement already satisfied: packaging<25,>=23.2 in e:\\desktop\\sadia waheed gu1\\gen ai course 4 months\\lcel_p1\\chatenv\\lib\\site-packages (from langchain-core<1.0.0,>=0.3.49->langchain-groq) (24.2)\n",
      "Requirement already satisfied: tenacity!=8.4.0,<10.0.0,>=8.1.0 in e:\\desktop\\sadia waheed gu1\\gen ai course 4 months\\lcel_p1\\chatenv\\lib\\site-packages (from langchain-core<1.0.0,>=0.3.49->langchain-groq) (9.1.2)\n",
      "Requirement already satisfied: exceptiongroup>=1.0.2 in e:\\desktop\\sadia waheed gu1\\gen ai course 4 months\\lcel_p1\\chatenv\\lib\\site-packages (from anyio<5,>=3.5.0->groq<1,>=0.4.1->langchain-groq) (1.2.2)\n",
      "Requirement already satisfied: idna>=2.8 in e:\\desktop\\sadia waheed gu1\\gen ai course 4 months\\lcel_p1\\chatenv\\lib\\site-packages (from anyio<5,>=3.5.0->groq<1,>=0.4.1->langchain-groq) (3.10)\n",
      "Requirement already satisfied: httpcore==1.* in e:\\desktop\\sadia waheed gu1\\gen ai course 4 months\\lcel_p1\\chatenv\\lib\\site-packages (from httpx<1,>=0.23.0->groq<1,>=0.4.1->langchain-groq) (1.0.8)\n",
      "Requirement already satisfied: certifi in e:\\desktop\\sadia waheed gu1\\gen ai course 4 months\\lcel_p1\\chatenv\\lib\\site-packages (from httpx<1,>=0.23.0->groq<1,>=0.4.1->langchain-groq) (2025.1.31)\n",
      "Requirement already satisfied: h11<0.15,>=0.13 in e:\\desktop\\sadia waheed gu1\\gen ai course 4 months\\lcel_p1\\chatenv\\lib\\site-packages (from httpcore==1.*->httpx<1,>=0.23.0->groq<1,>=0.4.1->langchain-groq) (0.14.0)\n",
      "Requirement already satisfied: jsonpointer>=1.9 in e:\\desktop\\sadia waheed gu1\\gen ai course 4 months\\lcel_p1\\chatenv\\lib\\site-packages (from jsonpatch<2.0,>=1.33->langchain-core<1.0.0,>=0.3.49->langchain-groq) (3.0.0)\n",
      "Requirement already satisfied: orjson<4.0.0,>=3.9.14 in e:\\desktop\\sadia waheed gu1\\gen ai course 4 months\\lcel_p1\\chatenv\\lib\\site-packages (from langsmith<0.4,>=0.1.125->langchain-core<1.0.0,>=0.3.49->langchain-groq) (3.10.16)\n",
      "Requirement already satisfied: requests-toolbelt<2.0.0,>=1.0.0 in e:\\desktop\\sadia waheed gu1\\gen ai course 4 months\\lcel_p1\\chatenv\\lib\\site-packages (from langsmith<0.4,>=0.1.125->langchain-core<1.0.0,>=0.3.49->langchain-groq) (1.0.0)\n",
      "Requirement already satisfied: requests<3,>=2 in e:\\desktop\\sadia waheed gu1\\gen ai course 4 months\\lcel_p1\\chatenv\\lib\\site-packages (from langsmith<0.4,>=0.1.125->langchain-core<1.0.0,>=0.3.49->langchain-groq) (2.32.3)\n",
      "Requirement already satisfied: zstandard<0.24.0,>=0.23.0 in e:\\desktop\\sadia waheed gu1\\gen ai course 4 months\\lcel_p1\\chatenv\\lib\\site-packages (from langsmith<0.4,>=0.1.125->langchain-core<1.0.0,>=0.3.49->langchain-groq) (0.23.0)\n",
      "Requirement already satisfied: pydantic-core==2.33.1 in e:\\desktop\\sadia waheed gu1\\gen ai course 4 months\\lcel_p1\\chatenv\\lib\\site-packages (from pydantic<3,>=1.9.0->groq<1,>=0.4.1->langchain-groq) (2.33.1)\n",
      "Requirement already satisfied: annotated-types>=0.6.0 in e:\\desktop\\sadia waheed gu1\\gen ai course 4 months\\lcel_p1\\chatenv\\lib\\site-packages (from pydantic<3,>=1.9.0->groq<1,>=0.4.1->langchain-groq) (0.7.0)\n",
      "Requirement already satisfied: typing-inspection>=0.4.0 in e:\\desktop\\sadia waheed gu1\\gen ai course 4 months\\lcel_p1\\chatenv\\lib\\site-packages (from pydantic<3,>=1.9.0->groq<1,>=0.4.1->langchain-groq) (0.4.0)\n",
      "Requirement already satisfied: charset-normalizer<4,>=2 in e:\\desktop\\sadia waheed gu1\\gen ai course 4 months\\lcel_p1\\chatenv\\lib\\site-packages (from requests<3,>=2->langsmith<0.4,>=0.1.125->langchain-core<1.0.0,>=0.3.49->langchain-groq) (3.4.1)\n",
      "Requirement already satisfied: urllib3<3,>=1.21.1 in e:\\desktop\\sadia waheed gu1\\gen ai course 4 months\\lcel_p1\\chatenv\\lib\\site-packages (from requests<3,>=2->langsmith<0.4,>=0.1.125->langchain-core<1.0.0,>=0.3.49->langchain-groq) (2.4.0)\n",
      "Note: you may need to restart the kernel to use updated packages.\n"
     ]
    },
    {
     "name": "stderr",
     "output_type": "stream",
     "text": [
      "\n",
      "[notice] A new release of pip is available: 23.0.1 -> 25.0.1\n",
      "[notice] To update, run: python.exe -m pip install --upgrade pip\n"
     ]
    },
    {
     "data": {
      "text/plain": [
       "ChatGroq(client=<groq.resources.chat.completions.Completions object at 0x0000019733E76E60>, async_client=<groq.resources.chat.completions.AsyncCompletions object at 0x0000019733EB0310>, model_name='Gemma2-9b-It', model_kwargs={}, groq_api_key=SecretStr('**********'))"
      ]
     },
     "execution_count": 2,
     "metadata": {},
     "output_type": "execute_result"
    }
   ],
   "source": [
    "## Bring Groq chatmodel \n",
    "\n",
    "%pip install langchain-groq\n",
    "from langchain_groq import ChatGroq\n",
    "\n",
    "model = ChatGroq(model=\"Gemma2-9b-It\",groq_api_key=groq_api_key)\n",
    "model\n"
   ]
  },
  {
   "cell_type": "code",
   "execution_count": 3,
   "id": "b5bb683c",
   "metadata": {},
   "outputs": [
    {
     "data": {
      "text/plain": [
       "AIMessage(content='The capital of France is **Paris**. \\n', additional_kwargs={}, response_metadata={'token_usage': {'completion_tokens': 12, 'prompt_tokens': 16, 'total_tokens': 28, 'completion_time': 0.021818182, 'prompt_time': 0.001905606, 'queue_time': 0.016494793, 'total_time': 0.023723788}, 'model_name': 'Gemma2-9b-It', 'system_fingerprint': 'fp_10c08bf97d', 'finish_reason': 'stop', 'logprobs': None}, id='run-559a3cf3-6841-4347-b7cf-b4d39d87f0b1-0', usage_metadata={'input_tokens': 16, 'output_tokens': 12, 'total_tokens': 28})"
      ]
     },
     "execution_count": 3,
     "metadata": {},
     "output_type": "execute_result"
    }
   ],
   "source": [
    "from langchain_core.messages import HumanMessage\n",
    "model.invoke([HumanMessage(content=\"What is the capital of France?\")]) "
   ]
  },
  {
   "cell_type": "code",
   "execution_count": 4,
   "id": "63824543",
   "metadata": {},
   "outputs": [
    {
     "data": {
      "text/plain": [
       "AIMessage(content='The capital of Germany is Berlin. \\n\\nAs for which city is more beautiful, that\\'s entirely subjective! Both Paris and Berlin have unique charms and beauty. \\n\\n**Paris** is often called the \"City of Lights\" and is renowned for its romantic atmosphere, iconic landmarks like the Eiffel Tower and Louvre Museum, charming cafes, and elegant architecture. \\n\\n**Berlin**, on the other hand, has a more edgy and alternative vibe. It\\'s a city of history, with remnants of the Berlin Wall and numerous museums showcasing its tumultuous past. It also boasts vibrant street art, a thriving nightlife, and a diverse cultural scene.\\n\\nUltimately, the \"more beautiful\" city depends on your personal preferences. \\n\\n* **Do you prefer classic romance and elegance?** Paris might be your choice.\\n* **Are you drawn to history, art, and a more modern, eclectic atmosphere?** Berlin could be a better fit.\\n\\n\\nConsider what kind of experience you\\'re looking for and what interests you most when making your decision!\\n', additional_kwargs={}, response_metadata={'token_usage': {'completion_tokens': 214, 'prompt_tokens': 49, 'total_tokens': 263, 'completion_time': 0.389090909, 'prompt_time': 0.003357052, 'queue_time': 0.017505066, 'total_time': 0.392447961}, 'model_name': 'Gemma2-9b-It', 'system_fingerprint': 'fp_10c08bf97d', 'finish_reason': 'stop', 'logprobs': None}, id='run-062890ac-9ea9-4aee-96b9-0163992eea82-0', usage_metadata={'input_tokens': 49, 'output_tokens': 214, 'total_tokens': 263})"
      ]
     },
     "execution_count": 4,
     "metadata": {},
     "output_type": "execute_result"
    }
   ],
   "source": [
    "from langchain_core.messages import AIMessage\n",
    "model.invoke(\n",
    "    [\n",
    "        HumanMessage(content=\"What is the capital of France?\"),\n",
    "        AIMessage(content=\"The capital of France is Paris.\"),\n",
    "        HumanMessage(content=\"What is the capital of Germany? and Which is more beautiful for a trip?\")\n",
    "    ]\n",
    ") "
   ]
  },
  {
   "cell_type": "code",
   "execution_count": 5,
   "id": "c7a285d2",
   "metadata": {},
   "outputs": [
    {
     "name": "stdout",
     "output_type": "stream",
     "text": [
      "Requirement already satisfied: langchain_community in e:\\desktop\\sadia waheed gu1\\gen ai course 4 months\\lcel_p1\\chatenv\\lib\\site-packages (0.3.21)\n",
      "Requirement already satisfied: dataclasses-json<0.7,>=0.5.7 in e:\\desktop\\sadia waheed gu1\\gen ai course 4 months\\lcel_p1\\chatenv\\lib\\site-packages (from langchain_community) (0.6.7)\n",
      "Requirement already satisfied: PyYAML>=5.3 in e:\\desktop\\sadia waheed gu1\\gen ai course 4 months\\lcel_p1\\chatenv\\lib\\site-packages (from langchain_community) (6.0.2)\n",
      "Requirement already satisfied: tenacity!=8.4.0,<10,>=8.1.0 in e:\\desktop\\sadia waheed gu1\\gen ai course 4 months\\lcel_p1\\chatenv\\lib\\site-packages (from langchain_community) (9.1.2)\n",
      "Requirement already satisfied: SQLAlchemy<3,>=1.4 in e:\\desktop\\sadia waheed gu1\\gen ai course 4 months\\lcel_p1\\chatenv\\lib\\site-packages (from langchain_community) (2.0.40)\n",
      "Requirement already satisfied: langsmith<0.4,>=0.1.125 in e:\\desktop\\sadia waheed gu1\\gen ai course 4 months\\lcel_p1\\chatenv\\lib\\site-packages (from langchain_community) (0.3.32)\n",
      "Requirement already satisfied: aiohttp<4.0.0,>=3.8.3 in e:\\desktop\\sadia waheed gu1\\gen ai course 4 months\\lcel_p1\\chatenv\\lib\\site-packages (from langchain_community) (3.11.17)\n",
      "Requirement already satisfied: httpx-sse<1.0.0,>=0.4.0 in e:\\desktop\\sadia waheed gu1\\gen ai course 4 months\\lcel_p1\\chatenv\\lib\\site-packages (from langchain_community) (0.4.0)\n",
      "Requirement already satisfied: pydantic-settings<3.0.0,>=2.4.0 in e:\\desktop\\sadia waheed gu1\\gen ai course 4 months\\lcel_p1\\chatenv\\lib\\site-packages (from langchain_community) (2.9.1)\n",
      "Requirement already satisfied: numpy<3,>=1.26.2 in e:\\desktop\\sadia waheed gu1\\gen ai course 4 months\\lcel_p1\\chatenv\\lib\\site-packages (from langchain_community) (2.2.5)\n",
      "Requirement already satisfied: requests<3,>=2 in e:\\desktop\\sadia waheed gu1\\gen ai course 4 months\\lcel_p1\\chatenv\\lib\\site-packages (from langchain_community) (2.32.3)\n",
      "Requirement already satisfied: langchain<1.0.0,>=0.3.23 in e:\\desktop\\sadia waheed gu1\\gen ai course 4 months\\lcel_p1\\chatenv\\lib\\site-packages (from langchain_community) (0.3.23)\n",
      "Requirement already satisfied: langchain-core<1.0.0,>=0.3.51 in e:\\desktop\\sadia waheed gu1\\gen ai course 4 months\\lcel_p1\\chatenv\\lib\\site-packages (from langchain_community) (0.3.54)\n",
      "Requirement already satisfied: multidict<7.0,>=4.5 in e:\\desktop\\sadia waheed gu1\\gen ai course 4 months\\lcel_p1\\chatenv\\lib\\site-packages (from aiohttp<4.0.0,>=3.8.3->langchain_community) (6.4.3)\n",
      "Requirement already satisfied: frozenlist>=1.1.1 in e:\\desktop\\sadia waheed gu1\\gen ai course 4 months\\lcel_p1\\chatenv\\lib\\site-packages (from aiohttp<4.0.0,>=3.8.3->langchain_community) (1.6.0)\n",
      "Requirement already satisfied: aiosignal>=1.1.2 in e:\\desktop\\sadia waheed gu1\\gen ai course 4 months\\lcel_p1\\chatenv\\lib\\site-packages (from aiohttp<4.0.0,>=3.8.3->langchain_community) (1.3.2)\n",
      "Requirement already satisfied: yarl<2.0,>=1.17.0 in e:\\desktop\\sadia waheed gu1\\gen ai course 4 months\\lcel_p1\\chatenv\\lib\\site-packages (from aiohttp<4.0.0,>=3.8.3->langchain_community) (1.20.0)\n",
      "Requirement already satisfied: aiohappyeyeballs>=2.3.0 in e:\\desktop\\sadia waheed gu1\\gen ai course 4 months\\lcel_p1\\chatenv\\lib\\site-packages (from aiohttp<4.0.0,>=3.8.3->langchain_community) (2.6.1)\n",
      "Requirement already satisfied: async-timeout<6.0,>=4.0 in e:\\desktop\\sadia waheed gu1\\gen ai course 4 months\\lcel_p1\\chatenv\\lib\\site-packages (from aiohttp<4.0.0,>=3.8.3->langchain_community) (4.0.3)\n",
      "Requirement already satisfied: propcache>=0.2.0 in e:\\desktop\\sadia waheed gu1\\gen ai course 4 months\\lcel_p1\\chatenv\\lib\\site-packages (from aiohttp<4.0.0,>=3.8.3->langchain_community) (0.3.1)\n",
      "Requirement already satisfied: attrs>=17.3.0 in e:\\desktop\\sadia waheed gu1\\gen ai course 4 months\\lcel_p1\\chatenv\\lib\\site-packages (from aiohttp<4.0.0,>=3.8.3->langchain_community) (25.3.0)\n",
      "Requirement already satisfied: typing-inspect<1,>=0.4.0 in e:\\desktop\\sadia waheed gu1\\gen ai course 4 months\\lcel_p1\\chatenv\\lib\\site-packages (from dataclasses-json<0.7,>=0.5.7->langchain_community) (0.9.0)\n",
      "Requirement already satisfied: marshmallow<4.0.0,>=3.18.0 in e:\\desktop\\sadia waheed gu1\\gen ai course 4 months\\lcel_p1\\chatenv\\lib\\site-packages (from dataclasses-json<0.7,>=0.5.7->langchain_community) (3.26.1)\n",
      "Requirement already satisfied: langchain-text-splitters<1.0.0,>=0.3.8 in e:\\desktop\\sadia waheed gu1\\gen ai course 4 months\\lcel_p1\\chatenv\\lib\\site-packages (from langchain<1.0.0,>=0.3.23->langchain_community) (0.3.8)\n",
      "Requirement already satisfied: pydantic<3.0.0,>=2.7.4 in e:\\desktop\\sadia waheed gu1\\gen ai course 4 months\\lcel_p1\\chatenv\\lib\\site-packages (from langchain<1.0.0,>=0.3.23->langchain_community) (2.11.3)\n",
      "Requirement already satisfied: typing-extensions>=4.7 in e:\\desktop\\sadia waheed gu1\\gen ai course 4 months\\lcel_p1\\chatenv\\lib\\site-packages (from langchain-core<1.0.0,>=0.3.51->langchain_community) (4.13.2)\n",
      "Requirement already satisfied: jsonpatch<2.0,>=1.33 in e:\\desktop\\sadia waheed gu1\\gen ai course 4 months\\lcel_p1\\chatenv\\lib\\site-packages (from langchain-core<1.0.0,>=0.3.51->langchain_community) (1.33)\n",
      "Requirement already satisfied: packaging<25,>=23.2 in e:\\desktop\\sadia waheed gu1\\gen ai course 4 months\\lcel_p1\\chatenv\\lib\\site-packages (from langchain-core<1.0.0,>=0.3.51->langchain_community) (24.2)\n",
      "Requirement already satisfied: orjson<4.0.0,>=3.9.14 in e:\\desktop\\sadia waheed gu1\\gen ai course 4 months\\lcel_p1\\chatenv\\lib\\site-packages (from langsmith<0.4,>=0.1.125->langchain_community) (3.10.16)\n",
      "Requirement already satisfied: zstandard<0.24.0,>=0.23.0 in e:\\desktop\\sadia waheed gu1\\gen ai course 4 months\\lcel_p1\\chatenv\\lib\\site-packages (from langsmith<0.4,>=0.1.125->langchain_community) (0.23.0)\n",
      "Requirement already satisfied: httpx<1,>=0.23.0 in e:\\desktop\\sadia waheed gu1\\gen ai course 4 months\\lcel_p1\\chatenv\\lib\\site-packages (from langsmith<0.4,>=0.1.125->langchain_community) (0.28.1)\n",
      "Requirement already satisfied: requests-toolbelt<2.0.0,>=1.0.0 in e:\\desktop\\sadia waheed gu1\\gen ai course 4 months\\lcel_p1\\chatenv\\lib\\site-packages (from langsmith<0.4,>=0.1.125->langchain_community) (1.0.0)\n",
      "Requirement already satisfied: python-dotenv>=0.21.0 in e:\\desktop\\sadia waheed gu1\\gen ai course 4 months\\lcel_p1\\chatenv\\lib\\site-packages (from pydantic-settings<3.0.0,>=2.4.0->langchain_community) (1.1.0)\n",
      "Requirement already satisfied: typing-inspection>=0.4.0 in e:\\desktop\\sadia waheed gu1\\gen ai course 4 months\\lcel_p1\\chatenv\\lib\\site-packages (from pydantic-settings<3.0.0,>=2.4.0->langchain_community) (0.4.0)\n",
      "Requirement already satisfied: urllib3<3,>=1.21.1 in e:\\desktop\\sadia waheed gu1\\gen ai course 4 months\\lcel_p1\\chatenv\\lib\\site-packages (from requests<3,>=2->langchain_community) (2.4.0)\n",
      "Requirement already satisfied: certifi>=2017.4.17 in e:\\desktop\\sadia waheed gu1\\gen ai course 4 months\\lcel_p1\\chatenv\\lib\\site-packages (from requests<3,>=2->langchain_community) (2025.1.31)\n",
      "Requirement already satisfied: charset-normalizer<4,>=2 in e:\\desktop\\sadia waheed gu1\\gen ai course 4 months\\lcel_p1\\chatenv\\lib\\site-packages (from requests<3,>=2->langchain_community) (3.4.1)\n",
      "Requirement already satisfied: idna<4,>=2.5 in e:\\desktop\\sadia waheed gu1\\gen ai course 4 months\\lcel_p1\\chatenv\\lib\\site-packages (from requests<3,>=2->langchain_community) (3.10)\n",
      "Requirement already satisfied: greenlet>=1 in e:\\desktop\\sadia waheed gu1\\gen ai course 4 months\\lcel_p1\\chatenv\\lib\\site-packages (from SQLAlchemy<3,>=1.4->langchain_community) (3.2.0)\n",
      "Requirement already satisfied: httpcore==1.* in e:\\desktop\\sadia waheed gu1\\gen ai course 4 months\\lcel_p1\\chatenv\\lib\\site-packages (from httpx<1,>=0.23.0->langsmith<0.4,>=0.1.125->langchain_community) (1.0.8)\n",
      "Requirement already satisfied: anyio in e:\\desktop\\sadia waheed gu1\\gen ai course 4 months\\lcel_p1\\chatenv\\lib\\site-packages (from httpx<1,>=0.23.0->langsmith<0.4,>=0.1.125->langchain_community) (4.9.0)\n",
      "Requirement already satisfied: h11<0.15,>=0.13 in e:\\desktop\\sadia waheed gu1\\gen ai course 4 months\\lcel_p1\\chatenv\\lib\\site-packages (from httpcore==1.*->httpx<1,>=0.23.0->langsmith<0.4,>=0.1.125->langchain_community) (0.14.0)\n",
      "Requirement already satisfied: jsonpointer>=1.9 in e:\\desktop\\sadia waheed gu1\\gen ai course 4 months\\lcel_p1\\chatenv\\lib\\site-packages (from jsonpatch<2.0,>=1.33->langchain-core<1.0.0,>=0.3.51->langchain_community) (3.0.0)\n",
      "Requirement already satisfied: pydantic-core==2.33.1 in e:\\desktop\\sadia waheed gu1\\gen ai course 4 months\\lcel_p1\\chatenv\\lib\\site-packages (from pydantic<3.0.0,>=2.7.4->langchain<1.0.0,>=0.3.23->langchain_community) (2.33.1)\n",
      "Requirement already satisfied: annotated-types>=0.6.0 in e:\\desktop\\sadia waheed gu1\\gen ai course 4 months\\lcel_p1\\chatenv\\lib\\site-packages (from pydantic<3.0.0,>=2.7.4->langchain<1.0.0,>=0.3.23->langchain_community) (0.7.0)\n",
      "Requirement already satisfied: mypy-extensions>=0.3.0 in e:\\desktop\\sadia waheed gu1\\gen ai course 4 months\\lcel_p1\\chatenv\\lib\\site-packages (from typing-inspect<1,>=0.4.0->dataclasses-json<0.7,>=0.5.7->langchain_community) (1.0.0)\n",
      "Requirement already satisfied: sniffio>=1.1 in e:\\desktop\\sadia waheed gu1\\gen ai course 4 months\\lcel_p1\\chatenv\\lib\\site-packages (from anyio->httpx<1,>=0.23.0->langsmith<0.4,>=0.1.125->langchain_community) (1.3.1)\n",
      "Requirement already satisfied: exceptiongroup>=1.0.2 in e:\\desktop\\sadia waheed gu1\\gen ai course 4 months\\lcel_p1\\chatenv\\lib\\site-packages (from anyio->httpx<1,>=0.23.0->langsmith<0.4,>=0.1.125->langchain_community) (1.2.2)\n",
      "Note: you may need to restart the kernel to use updated packages.\n"
     ]
    },
    {
     "name": "stderr",
     "output_type": "stream",
     "text": [
      "\n",
      "[notice] A new release of pip is available: 23.0.1 -> 25.0.1\n",
      "[notice] To update, run: python.exe -m pip install --upgrade pip\n"
     ]
    }
   ],
   "source": [
    "## Message history and stateful sessions\n",
    "\n",
    "%pip install langchain_community\n",
    "\n",
    "\n",
    "from langchain_community.chat_message_histories import ChatMessageHistory\n",
    "from langchain_core.chat_history import BaseChatMessageHistory\n",
    "from langchain_core.runnables.history import RunnableWithMessageHistory\n",
    "\n",
    "store = {}\n",
    "\n",
    "def get_session_history(session_id: str) -> BaseChatMessageHistory:\n",
    "    if session_id not in store:\n",
    "        store[session_id] = ChatMessageHistory()\n",
    "    return store[session_id]\n",
    "\n",
    "with_message_history = RunnableWithMessageHistory(model,get_session_history)"
   ]
  },
  {
   "cell_type": "code",
   "execution_count": 6,
   "id": "f420f4ec",
   "metadata": {},
   "outputs": [],
   "source": [
    "## session_id configuration\n",
    "\n",
    "config = {\"configurable\":{\"session_id\":\"Chat1\"}}"
   ]
  },
  {
   "cell_type": "code",
   "execution_count": 7,
   "id": "82fbd0bb",
   "metadata": {},
   "outputs": [],
   "source": [
    "response= with_message_history.invoke(\n",
    "    [\n",
    "        HumanMessage(content=\"What is the capital of France?\"),\n",
    "        AIMessage(content=\"The capital of France is Paris.\"),\n",
    "        HumanMessage(content=\"What is the capital of Germany? and Which is more beautiful for a trip?\")\n",
    "    ],\n",
    "    config=config\n",
    ")"
   ]
  },
  {
   "cell_type": "code",
   "execution_count": 8,
   "id": "499258f4",
   "metadata": {},
   "outputs": [
    {
     "data": {
      "text/plain": [
       "'The capital of Germany is Berlin. \\n\\nAh, the beauty question - that\\'s subjective! Both Paris and Berlin are incredibly beautiful cities, each with their own unique charm. \\n\\n**Paris** is often called the \"City of Lights\" for its romantic ambiance, iconic landmarks like the Eiffel Tower and Louvre Museum, and charming cafes and streets. It\\'s perfect for a classic European getaway with a focus on art, history, and romance.\\n\\n**Berlin** has a more edgy, historical vibe. It\\'s a city of contrasts, with impressive architecture, vibrant nightlife, and a rich cultural scene. You\\'ll find museums dedicated to its complex past, street art galore, and plenty of opportunities to explore its diverse neighborhoods.\\n\\nUltimately, the \"more beautiful\" city depends on your personal preferences. \\n\\n**Consider these factors:**\\n\\n* **What kind of atmosphere are you looking for?** Romantic and classic or edgy and historical?\\n* **What are your interests?** Art, history, fashion, nightlife?\\n* **What\\'s your travel style?** Budget-friendly or luxurious?\\n\\nDo some research on both cities and see which one speaks to you more. You can\\'t go wrong with either!\\n'"
      ]
     },
     "execution_count": 8,
     "metadata": {},
     "output_type": "execute_result"
    }
   ],
   "source": [
    "response.content"
   ]
  },
  {
   "cell_type": "code",
   "execution_count": 9,
   "id": "28e2491a",
   "metadata": {},
   "outputs": [
    {
     "data": {
      "text/plain": [
       "AIMessage(content=\"We were discussing the capitals of France and Germany, and you asked which city was more beautiful for a trip. I gave you some insights into both Paris and Berlin, highlighting their unique charms.  \\n\\nIs there anything else you'd like to know about either city, or would you like to explore a different topic? 😊  \\n\\n\", additional_kwargs={}, response_metadata={'token_usage': {'completion_tokens': 70, 'prompt_tokens': 318, 'total_tokens': 388, 'completion_time': 0.127272727, 'prompt_time': 0.012048082, 'queue_time': 0.018709996, 'total_time': 0.139320809}, 'model_name': 'Gemma2-9b-It', 'system_fingerprint': 'fp_10c08bf97d', 'finish_reason': 'stop', 'logprobs': None}, id='run-92cdfc36-ae79-4954-8727-dec972982bca-0', usage_metadata={'input_tokens': 318, 'output_tokens': 70, 'total_tokens': 388})"
      ]
     },
     "execution_count": 9,
     "metadata": {},
     "output_type": "execute_result"
    }
   ],
   "source": [
    "with_message_history.invoke(\n",
    "    [\n",
    "        HumanMessage(content=\"where were we in last chat?\")],\n",
    "    config=config\n",
    ")"
   ]
  },
  {
   "cell_type": "code",
   "execution_count": 10,
   "id": "efccf35d",
   "metadata": {},
   "outputs": [],
   "source": [
    "## Prompt Template\n",
    "\n",
    "from langchain_core.prompts import ChatPromptTemplate,MessagesPlaceholder\n",
    "prompt = ChatPromptTemplate.from_messages(\n",
    "    [\n",
    "        (\"system\", \"You are a helpful assistant.Answer all of my questions to best of your ability.\"),\n",
    "        MessagesPlaceholder(variable_name=\"messages\"),\n",
    "    ]\n",
    ")\n",
    "\n",
    "chain = prompt|model"
   ]
  },
  {
   "cell_type": "code",
   "execution_count": 11,
   "id": "95b14269",
   "metadata": {},
   "outputs": [
    {
     "data": {
      "text/plain": [
       "AIMessage(content=\"Islamabad is known for its **planned beauty**.  \\n\\nHere's why:\\n\\n* **Green spaces:**  It was designed with a lot of parks and green areas, giving it a lush and vibrant feel.\\n* **Modern architecture:** Islamabad features a blend of modern and traditional architecture, creating a unique and visually appealing cityscape.\\n* **Cleanliness:**  The city is generally considered to be quite clean and well-maintained.\\n* **Mountain views:**  It's located in a valley surrounded by the Margalla Hills, providing stunning natural backdrops.\\n\\nWhile Islamabad may not be as historically rich or culturally diverse as some other Pakistani cities, its **planned design and emphasis on greenery** definitely contribute to its beauty.  \\n\\n\\nDo you have any other questions about Islamabad? \\n\\n\", additional_kwargs={}, response_metadata={'token_usage': {'completion_tokens': 166, 'prompt_tokens': 33, 'total_tokens': 199, 'completion_time': 0.301818182, 'prompt_time': 0.002341755, 'queue_time': 0.018765633, 'total_time': 0.304159937}, 'model_name': 'Gemma2-9b-It', 'system_fingerprint': 'fp_10c08bf97d', 'finish_reason': 'stop', 'logprobs': None}, id='run-8ffff405-86f9-4c93-b5e9-cf3f229ae750-0', usage_metadata={'input_tokens': 33, 'output_tokens': 166, 'total_tokens': 199})"
      ]
     },
     "execution_count": 11,
     "metadata": {},
     "output_type": "execute_result"
    }
   ],
   "source": [
    "chain.invoke({\"messages\":[HumanMessage(content=\"Does Islamabad known for its beauty?\")]})"
   ]
  },
  {
   "cell_type": "code",
   "execution_count": 12,
   "id": "b12d3d31",
   "metadata": {},
   "outputs": [],
   "source": [
    "with_message_history = RunnableWithMessageHistory(chain,get_session_history=get_session_history)"
   ]
  },
  {
   "cell_type": "code",
   "execution_count": 13,
   "id": "305fbcef",
   "metadata": {},
   "outputs": [],
   "source": [
    "config2 = {\"configurable\":{\"session_id\":\"Chat2\"}}\n",
    "\n",
    "response= with_message_history.invoke(\n",
    "    [\n",
    "        HumanMessage(content=\"What do you know about travel destinations?\")],\n",
    "    config=config2\n",
    ")"
   ]
  },
  {
   "cell_type": "code",
   "execution_count": 14,
   "id": "be7737f8",
   "metadata": {},
   "outputs": [
    {
     "data": {
      "text/plain": [
       "\"As a large language model, I have access to a vast amount of information about travel destinations! 🌎✈️\\n\\nTo give you the best answers, tell me what kind of information you're looking for. For example, are you interested in:\\n\\n* **Specific destinations?** (e.g., Paris, Tokyo, Machu Picchu)\\n* **Types of destinations?** (e.g., beaches, mountains, historical sites)\\n* **Travel planning tips?** (e.g., visa requirements, packing lists, budget advice)\\n* **Cultural insights?** (e.g., local customs, cuisine, language)\\n* **Travel inspiration?** (e.g., off-the-beaten-path destinations, unique experiences)\\n\\nThe more details you provide, the better I can tailor my response to your needs. 😄\\n\""
      ]
     },
     "execution_count": 14,
     "metadata": {},
     "output_type": "execute_result"
    }
   ],
   "source": [
    "response.content"
   ]
  },
  {
   "cell_type": "code",
   "execution_count": 15,
   "id": "2edff9bf",
   "metadata": {},
   "outputs": [],
   "source": [
    "## Add more complexity in model \n",
    "from langchain_core.prompts import ChatPromptTemplate,MessagesPlaceholder\n",
    "prompt = ChatPromptTemplate.from_messages(\n",
    "    [\n",
    "        (\"system\", \"You are a helpful assistant translating messages.Answer all of my questions in {language}.\"),\n",
    "        MessagesPlaceholder(variable_name=\"messages\"),\n",
    "    ]\n",
    ")\n",
    "\n",
    "chain = prompt|model "
   ]
  },
  {
   "cell_type": "code",
   "execution_count": 16,
   "id": "a2fefdcd",
   "metadata": {},
   "outputs": [
    {
     "data": {
      "text/plain": [
       "'جی ہاں، \"دَارُل حُکوْمَت\" کا مطلب ایک ریاست کی راجگڑھ ہوتا ہے۔\\n'"
      ]
     },
     "execution_count": 16,
     "metadata": {},
     "output_type": "execute_result"
    }
   ],
   "source": [
    "response=chain.invoke({\"messages\":[HumanMessage(content=\"Does Daarul Hakoomat mean capital of a state?\")], \"language\":\"Urdu\"})\n",
    "response.content\n",
    "                      "
   ]
  },
  {
   "cell_type": "code",
   "execution_count": 17,
   "id": "8cb5081b",
   "metadata": {},
   "outputs": [],
   "source": [
    "## wrap and chain all together\n",
    "\n",
    "with_message_history = RunnableWithMessageHistory(\n",
    "    chain,\n",
    "    get_session_history,\n",
    "    input_messages_key=\"messages\"\n",
    ")"
   ]
  },
  {
   "cell_type": "code",
   "execution_count": 18,
   "id": "2e0c6eb8",
   "metadata": {},
   "outputs": [
    {
     "data": {
      "text/plain": [
       "'جی ہاں، \"دَارُ الحُکومت\" ایک ریاست کی راجگھر یا دارالخلافت کے لیے استعمال ہوتا ہے۔ \\n'"
      ]
     },
     "execution_count": 18,
     "metadata": {},
     "output_type": "execute_result"
    }
   ],
   "source": [
    "config3 = {\"configurable\":{\"session_id\":\"Chat3\"}}\n",
    "\n",
    "response= with_message_history.invoke(\n",
    "    {\"messages\":[HumanMessage(content=\"Does Daarul Hakoomat mean capital of a state?\")], \"language\":\"Urdu\"},\n",
    "    config=config3\n",
    ")\n",
    "response.content"
   ]
  },
  {
   "cell_type": "code",
   "execution_count": null,
   "id": "81a592bb",
   "metadata": {},
   "outputs": [],
   "source": []
  }
 ],
 "metadata": {
  "kernelspec": {
   "display_name": "chatenv",
   "language": "python",
   "name": "python3"
  },
  "language_info": {
   "codemirror_mode": {
    "name": "ipython",
    "version": 3
   },
   "file_extension": ".py",
   "mimetype": "text/x-python",
   "name": "python",
   "nbconvert_exporter": "python",
   "pygments_lexer": "ipython3",
   "version": "3.10.11"
  }
 },
 "nbformat": 4,
 "nbformat_minor": 5
}
